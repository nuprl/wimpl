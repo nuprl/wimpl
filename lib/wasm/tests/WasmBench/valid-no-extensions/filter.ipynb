{
 "cells": [
  {
   "cell_type": "code",
   "execution_count": 9,
   "metadata": {},
   "outputs": [
    {
     "data": {
      "text/plain": [
       "8461"
      ]
     },
     "execution_count": 9,
     "metadata": {},
     "output_type": "execute_result"
    }
   ],
   "source": [
    "import json\n",
    "\n",
    "# read data from json file\n",
    "with open('../filtered-binaries-metadata/filtered.pretty.json') as f:\n",
    "    metadata = json.load(f)\n",
    "len(metadata)\n"
   ]
  },
  {
   "cell_type": "code",
   "execution_count": 10,
   "metadata": {},
   "outputs": [
    {
     "data": {
      "text/plain": [
       "8392"
      ]
     },
     "execution_count": 10,
     "metadata": {},
     "output_type": "execute_result"
    }
   ],
   "source": [
    "files_valid_no_extensions = [hash for hash, entry in metadata.items() if entry['wasm_validate_no_extensions'] == True]\n",
    "len(files_valid_no_extensions)"
   ]
  },
  {
   "cell_type": "code",
   "execution_count": 12,
   "metadata": {},
   "outputs": [
    {
     "name": "stdout",
     "output_type": "stream",
     "text": [
      "9d30e7f065cd00a47d8e10e27acc443a33977176484ca11077f08fc20b1a672c\n",
      "[Errno 2] No such file or directory: '../filtered-binaries-metadata/filtered/9d30e7f065cd00a47d8e10e27acc443a33977176484ca11077f08fc20b1a672c.wasm'\n"
     ]
    }
   ],
   "source": [
    "import shutil\n",
    "for hash in files_valid_no_extensions:\n",
    "    try:\n",
    "        shutil.copyfile('../filtered-binaries-metadata/filtered/' + hash + '.wasm', 'binaries/' + hash + '.wasm')\n",
    "    except Exception as e:\n",
    "        print(e)\n"
   ]
  }
 ],
 "metadata": {
  "kernelspec": {
   "display_name": "Python 3.10.1 64-bit",
   "language": "python",
   "name": "python3"
  },
  "language_info": {
   "codemirror_mode": {
    "name": "ipython",
    "version": 3
   },
   "file_extension": ".py",
   "mimetype": "text/x-python",
   "name": "python",
   "nbconvert_exporter": "python",
   "pygments_lexer": "ipython3",
   "version": "3.10.1"
  },
  "orig_nbformat": 4,
  "vscode": {
   "interpreter": {
    "hash": "32f2fe102a4f10662d8c13f75131e1ba377b7194060421a642fdea27c55fc65a"
   }
  }
 },
 "nbformat": 4,
 "nbformat_minor": 2
}
